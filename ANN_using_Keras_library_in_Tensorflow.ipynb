{
  "nbformat": 4,
  "nbformat_minor": 0,
  "metadata": {
    "colab": {
      "name": "ANN using Keras library in Tensorflow",
      "provenance": [],
      "collapsed_sections": [],
      "toc_visible": true,
      "authorship_tag": "ABX9TyN1/XxWG/74myWXjwTTYSZM",
      "include_colab_link": true
    },
    "kernelspec": {
      "name": "python3",
      "display_name": "Python 3"
    }
  },
  "cells": [
    {
      "cell_type": "markdown",
      "metadata": {
        "id": "view-in-github",
        "colab_type": "text"
      },
      "source": [
        "<a href=\"https://colab.research.google.com/github/HarshadNSuthar/ANN-using-Keras-library-in-Tensorflow/blob/master/ANN_using_Keras_library_in_Tensorflow.ipynb\" target=\"_parent\"><img src=\"https://colab.research.google.com/assets/colab-badge.svg\" alt=\"Open In Colab\"/></a>"
      ]
    },
    {
      "cell_type": "markdown",
      "metadata": {
        "id": "JBRAGU-ERl22",
        "colab_type": "text"
      },
      "source": [
        "**Problem Statement**\n",
        "\n",
        "Bank want to predict from the past data that which customer will stay with bank and which customer will exit.\n"
      ]
    },
    {
      "cell_type": "code",
      "metadata": {
        "id": "nulw7GETwGlx",
        "colab_type": "code",
        "outputId": "103204cf-6d7d-47e7-b37d-1c32b83be8ae",
        "colab": {
          "base_uri": "https://localhost:8080/",
          "height": 71
        }
      },
      "source": [
        "#Importing all required packages\n",
        "import pandas as pd\n",
        "import numpy as np\n",
        "import matplotlib.pyplot as plt\n",
        "import seaborn as sns\n",
        "%matplotlib inline"
      ],
      "execution_count": 6,
      "outputs": [
        {
          "output_type": "stream",
          "text": [
            "/usr/local/lib/python3.6/dist-packages/statsmodels/tools/_testing.py:19: FutureWarning: pandas.util.testing is deprecated. Use the functions in the public API at pandas.testing instead.\n",
            "  import pandas.util.testing as tm\n"
          ],
          "name": "stderr"
        }
      ]
    },
    {
      "cell_type": "code",
      "metadata": {
        "id": "J-MzOEb_yoCg",
        "colab_type": "code",
        "colab": {}
      },
      "source": [
        "#importing Datasets\n",
        "\n",
        "from google.colab import files"
      ],
      "execution_count": 0,
      "outputs": []
    },
    {
      "cell_type": "code",
      "metadata": {
        "id": "_hIdd4izyo2B",
        "colab_type": "code",
        "outputId": "30b038c3-62f1-4369-e5d5-caff733d6179",
        "colab": {
          "resources": {
            "http://localhost:8080/nbextensions/google.colab/files.js": {
              "data": "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",
              "ok": true,
              "headers": [
                [
                  "content-type",
                  "application/javascript"
                ]
              ],
              "status": 200,
              "status_text": ""
            }
          },
          "base_uri": "https://localhost:8080/",
          "height": 74
        }
      },
      "source": [
        "uploaded = files.upload()"
      ],
      "execution_count": 8,
      "outputs": [
        {
          "output_type": "display_data",
          "data": {
            "text/html": [
              "\n",
              "     <input type=\"file\" id=\"files-b56d81ac-909c-4b23-89b4-588e0fcdb7f8\" name=\"files[]\" multiple disabled />\n",
              "     <output id=\"result-b56d81ac-909c-4b23-89b4-588e0fcdb7f8\">\n",
              "      Upload widget is only available when the cell has been executed in the\n",
              "      current browser session. Please rerun this cell to enable.\n",
              "      </output>\n",
              "      <script src=\"/nbextensions/google.colab/files.js\"></script> "
            ],
            "text/plain": [
              "<IPython.core.display.HTML object>"
            ]
          },
          "metadata": {
            "tags": []
          }
        },
        {
          "output_type": "stream",
          "text": [
            "Saving Churn_Modelling.csv to Churn_Modelling.csv\n"
          ],
          "name": "stdout"
        }
      ]
    },
    {
      "cell_type": "code",
      "metadata": {
        "id": "fvr1h2QKyq24",
        "colab_type": "code",
        "outputId": "cbc070b9-a736-44b7-b190-c7170780c28f",
        "colab": {
          "base_uri": "https://localhost:8080/",
          "height": 34
        }
      },
      "source": [
        "for fn in uploaded.keys():\n",
        "  print('User uploaded file \"{name}\" with length {length} bytes'.format(\n",
        "      name=fn, length=len(uploaded[fn])))"
      ],
      "execution_count": 9,
      "outputs": [
        {
          "output_type": "stream",
          "text": [
            "User uploaded file \"Churn_Modelling.csv\" with length 684858 bytes\n"
          ],
          "name": "stdout"
        }
      ]
    },
    {
      "cell_type": "code",
      "metadata": {
        "id": "9CLnfm8sy52m",
        "colab_type": "code",
        "colab": {}
      },
      "source": [
        "import io"
      ],
      "execution_count": 0,
      "outputs": []
    },
    {
      "cell_type": "code",
      "metadata": {
        "id": "K6Gtevqsy8F6",
        "colab_type": "code",
        "colab": {}
      },
      "source": [
        "# After Loading importing in pandas DataFrame\n",
        "\n",
        "churn = pd.read_csv(io.StringIO(uploaded['Churn_Modelling.csv'].decode('utf-8')))"
      ],
      "execution_count": 0,
      "outputs": []
    },
    {
      "cell_type": "code",
      "metadata": {
        "id": "mvSWLV2mzdSz",
        "colab_type": "code",
        "outputId": "c18e6ffc-3390-4943-f1c2-6a2611fb5803",
        "colab": {
          "base_uri": "https://localhost:8080/",
          "height": 224
        }
      },
      "source": [
        "churn.head()"
      ],
      "execution_count": 12,
      "outputs": [
        {
          "output_type": "execute_result",
          "data": {
            "text/html": [
              "<div>\n",
              "<style scoped>\n",
              "    .dataframe tbody tr th:only-of-type {\n",
              "        vertical-align: middle;\n",
              "    }\n",
              "\n",
              "    .dataframe tbody tr th {\n",
              "        vertical-align: top;\n",
              "    }\n",
              "\n",
              "    .dataframe thead th {\n",
              "        text-align: right;\n",
              "    }\n",
              "</style>\n",
              "<table border=\"1\" class=\"dataframe\">\n",
              "  <thead>\n",
              "    <tr style=\"text-align: right;\">\n",
              "      <th></th>\n",
              "      <th>RowNumber</th>\n",
              "      <th>CustomerId</th>\n",
              "      <th>Surname</th>\n",
              "      <th>CreditScore</th>\n",
              "      <th>Geography</th>\n",
              "      <th>Gender</th>\n",
              "      <th>Age</th>\n",
              "      <th>Tenure</th>\n",
              "      <th>Balance</th>\n",
              "      <th>NumOfProducts</th>\n",
              "      <th>HasCrCard</th>\n",
              "      <th>IsActiveMember</th>\n",
              "      <th>EstimatedSalary</th>\n",
              "      <th>Exited</th>\n",
              "    </tr>\n",
              "  </thead>\n",
              "  <tbody>\n",
              "    <tr>\n",
              "      <th>0</th>\n",
              "      <td>1</td>\n",
              "      <td>15634602</td>\n",
              "      <td>Hargrave</td>\n",
              "      <td>619</td>\n",
              "      <td>France</td>\n",
              "      <td>Female</td>\n",
              "      <td>42</td>\n",
              "      <td>2</td>\n",
              "      <td>0.00</td>\n",
              "      <td>1</td>\n",
              "      <td>1</td>\n",
              "      <td>1</td>\n",
              "      <td>101348.88</td>\n",
              "      <td>1</td>\n",
              "    </tr>\n",
              "    <tr>\n",
              "      <th>1</th>\n",
              "      <td>2</td>\n",
              "      <td>15647311</td>\n",
              "      <td>Hill</td>\n",
              "      <td>608</td>\n",
              "      <td>Spain</td>\n",
              "      <td>Female</td>\n",
              "      <td>41</td>\n",
              "      <td>1</td>\n",
              "      <td>83807.86</td>\n",
              "      <td>1</td>\n",
              "      <td>0</td>\n",
              "      <td>1</td>\n",
              "      <td>112542.58</td>\n",
              "      <td>0</td>\n",
              "    </tr>\n",
              "    <tr>\n",
              "      <th>2</th>\n",
              "      <td>3</td>\n",
              "      <td>15619304</td>\n",
              "      <td>Onio</td>\n",
              "      <td>502</td>\n",
              "      <td>France</td>\n",
              "      <td>Female</td>\n",
              "      <td>42</td>\n",
              "      <td>8</td>\n",
              "      <td>159660.80</td>\n",
              "      <td>3</td>\n",
              "      <td>1</td>\n",
              "      <td>0</td>\n",
              "      <td>113931.57</td>\n",
              "      <td>1</td>\n",
              "    </tr>\n",
              "    <tr>\n",
              "      <th>3</th>\n",
              "      <td>4</td>\n",
              "      <td>15701354</td>\n",
              "      <td>Boni</td>\n",
              "      <td>699</td>\n",
              "      <td>France</td>\n",
              "      <td>Female</td>\n",
              "      <td>39</td>\n",
              "      <td>1</td>\n",
              "      <td>0.00</td>\n",
              "      <td>2</td>\n",
              "      <td>0</td>\n",
              "      <td>0</td>\n",
              "      <td>93826.63</td>\n",
              "      <td>0</td>\n",
              "    </tr>\n",
              "    <tr>\n",
              "      <th>4</th>\n",
              "      <td>5</td>\n",
              "      <td>15737888</td>\n",
              "      <td>Mitchell</td>\n",
              "      <td>850</td>\n",
              "      <td>Spain</td>\n",
              "      <td>Female</td>\n",
              "      <td>43</td>\n",
              "      <td>2</td>\n",
              "      <td>125510.82</td>\n",
              "      <td>1</td>\n",
              "      <td>1</td>\n",
              "      <td>1</td>\n",
              "      <td>79084.10</td>\n",
              "      <td>0</td>\n",
              "    </tr>\n",
              "  </tbody>\n",
              "</table>\n",
              "</div>"
            ],
            "text/plain": [
              "   RowNumber  CustomerId   Surname  ...  IsActiveMember EstimatedSalary Exited\n",
              "0          1    15634602  Hargrave  ...               1       101348.88      1\n",
              "1          2    15647311      Hill  ...               1       112542.58      0\n",
              "2          3    15619304      Onio  ...               0       113931.57      1\n",
              "3          4    15701354      Boni  ...               0        93826.63      0\n",
              "4          5    15737888  Mitchell  ...               1        79084.10      0\n",
              "\n",
              "[5 rows x 14 columns]"
            ]
          },
          "metadata": {
            "tags": []
          },
          "execution_count": 12
        }
      ]
    },
    {
      "cell_type": "markdown",
      "metadata": {
        "id": "3PXHGS7fSNJp",
        "colab_type": "text"
      },
      "source": [
        "This is catogorical problem. There are two Hypothesis.\n",
        "\n",
        "1 means customer will leave the Bank\n",
        "\n",
        "0 means customer will remain with Bank\n",
        "\n"
      ]
    },
    {
      "cell_type": "markdown",
      "metadata": {
        "id": "IbbbODNpTqHW",
        "colab_type": "text"
      },
      "source": [
        "Assigning dependent variable Target X and indepent Variable Y "
      ]
    },
    {
      "cell_type": "code",
      "metadata": {
        "id": "M3ys-2IUz9Ps",
        "colab_type": "code",
        "colab": {}
      },
      "source": [
        "x = churn.iloc[:, 3:13].values\n",
        "y = churn.iloc[:, 13].values"
      ],
      "execution_count": 0,
      "outputs": []
    },
    {
      "cell_type": "code",
      "metadata": {
        "id": "JgTcWQyA4aJ3",
        "colab_type": "code",
        "colab": {}
      },
      "source": [
        "#Encoding Categorical data\n",
        "from sklearn.preprocessing import LabelEncoder, OneHotEncoder\n",
        "from sklearn.compose import ColumnTransformer\n",
        "\n",
        "labelencoder_x1 = LabelEncoder()\n",
        "x[:, 1] = labelencoder_x1.fit_transform(x[:, 1])\n",
        "\n",
        "labelencoder_x2 = LabelEncoder()\n",
        "x[:, 2] = labelencoder_x1.fit_transform(x[:, 2])"
      ],
      "execution_count": 0,
      "outputs": []
    },
    {
      "cell_type": "code",
      "metadata": {
        "id": "ikSPONXrkCJO",
        "colab_type": "code",
        "colab": {}
      },
      "source": [
        "from keras.utils import to_categorical\n",
        "import numpy as np\n",
        "\n",
        "# one hot encode\n",
        "encoded = to_categorical(x[:,1])\n",
        "\n",
        "x= x[:, 1:]"
      ],
      "execution_count": 0,
      "outputs": []
    },
    {
      "cell_type": "code",
      "metadata": {
        "id": "2S3E-kEFo7ji",
        "colab_type": "code",
        "colab": {
          "base_uri": "https://localhost:8080/",
          "height": 34
        },
        "outputId": "3f554037-c796-4bd7-d63d-9079b22e0c67"
      },
      "source": [
        "x.shape"
      ],
      "execution_count": 99,
      "outputs": [
        {
          "output_type": "execute_result",
          "data": {
            "text/plain": [
              "(10000, 11)"
            ]
          },
          "metadata": {
            "tags": []
          },
          "execution_count": 99
        }
      ]
    },
    {
      "cell_type": "code",
      "metadata": {
        "id": "4-xV9Wz2TZSV",
        "colab_type": "code",
        "colab": {}
      },
      "source": [
        "#splitting the data into train and test\n",
        "from sklearn.model_selection import train_test_split\n",
        "x_train, x_test, y_train, y_test = train_test_split(x, y, test_size=0.2, random_state=0)"
      ],
      "execution_count": 0,
      "outputs": []
    },
    {
      "cell_type": "code",
      "metadata": {
        "id": "ndECAHDFS-9x",
        "colab_type": "code",
        "colab": {}
      },
      "source": [
        "# Feature Scalling\n",
        "from sklearn.preprocessing import StandardScaler\n",
        "sc = StandardScaler()\n",
        "x_train = sc.fit_transform(x_train)\n",
        "x_test = sc.transform(x_test)"
      ],
      "execution_count": 0,
      "outputs": []
    },
    {
      "cell_type": "code",
      "metadata": {
        "id": "GkIGiaU58-8x",
        "colab_type": "code",
        "colab": {}
      },
      "source": [
        "# importing keras library and packages \n",
        "import keras\n",
        "from keras.models import Sequential\n",
        "from keras.layers import Dense"
      ],
      "execution_count": 0,
      "outputs": []
    },
    {
      "cell_type": "code",
      "metadata": {
        "id": "KNLcLySA1oz9",
        "colab_type": "code",
        "colab": {}
      },
      "source": [
        "#Initializing the ANN"
      ],
      "execution_count": 0,
      "outputs": []
    },
    {
      "cell_type": "code",
      "metadata": {
        "id": "Yk66ik2Y3CoP",
        "colab_type": "code",
        "colab": {}
      },
      "source": [
        "classifier = Sequential()"
      ],
      "execution_count": 0,
      "outputs": []
    },
    {
      "cell_type": "code",
      "metadata": {
        "id": "7bfG_M6vDUbq",
        "colab_type": "code",
        "colab": {}
      },
      "source": [
        "#Node are the independt variable in the data for our data there are 11 node "
      ],
      "execution_count": 0,
      "outputs": []
    },
    {
      "cell_type": "code",
      "metadata": {
        "id": "zcs5PwSaEZ3f",
        "colab_type": "code",
        "colab": {}
      },
      "source": [
        "#We will chose Relu for hidden layer and sigmid activation function for output layer"
      ],
      "execution_count": 0,
      "outputs": []
    },
    {
      "cell_type": "code",
      "metadata": {
        "id": "UJLEn6zqE7dF",
        "colab_type": "code",
        "colab": {
          "base_uri": "https://localhost:8080/",
          "height": 71
        },
        "outputId": "d0f6a5a2-7bb5-4558-9d9c-4750f0745980"
      },
      "source": [
        "# adding the input layer and the first hidden layer\n",
        "# Dense average of no.of node in input layer and no.of node in output layer\n",
        "# here 11 node in input layer and 1 node in output layer hence average is 6   \n",
        "\n",
        "classifier.add(Dense(output_dim = 6, init = 'uniform', activation = 'relu', input_dim = 11))     \n",
        "\n"
      ],
      "execution_count": 107,
      "outputs": [
        {
          "output_type": "stream",
          "text": [
            "/usr/local/lib/python3.6/dist-packages/ipykernel_launcher.py:2: UserWarning: Update your `Dense` call to the Keras 2 API: `Dense(activation=\"relu\", input_dim=11, units=6, kernel_initializer=\"uniform\")`\n",
            "  \n"
          ],
          "name": "stderr"
        }
      ]
    },
    {
      "cell_type": "code",
      "metadata": {
        "id": "mG5B-81DHlZC",
        "colab_type": "code",
        "colab": {
          "base_uri": "https://localhost:8080/",
          "height": 71
        },
        "outputId": "713c4a54-3600-4aee-864e-6ecd1677fa94"
      },
      "source": [
        "# adding the input layer and the Second hidden layer\n",
        "classifier.add(Dense(output_dim = 6, init = 'uniform', activation = 'relu'))"
      ],
      "execution_count": 108,
      "outputs": [
        {
          "output_type": "stream",
          "text": [
            "/usr/local/lib/python3.6/dist-packages/ipykernel_launcher.py:1: UserWarning: Update your `Dense` call to the Keras 2 API: `Dense(activation=\"relu\", units=6, kernel_initializer=\"uniform\")`\n",
            "  \"\"\"Entry point for launching an IPython kernel.\n"
          ],
          "name": "stderr"
        }
      ]
    },
    {
      "cell_type": "code",
      "metadata": {
        "id": "4wyi9xETIOYo",
        "colab_type": "code",
        "colab": {
          "base_uri": "https://localhost:8080/",
          "height": 71
        },
        "outputId": "46e04a5d-eef3-46b7-9e9b-6bcbc27880ac"
      },
      "source": [
        "# adding the output layer \n",
        "\n",
        "# output dim is 1 as we need only output layer\n",
        "# sigmoid as we have only 2 outcome\n",
        "# if we have more then 2 outcome variable (applied one hot encoder in output variable) then output_dim will increase\n",
        "# if dependnt variable that has more category then we will use soft max actionvation function\n",
        "\n",
        "classifier.add(Dense(output_dim = 1, init = 'uniform', activation = 'sigmoid'))  "
      ],
      "execution_count": 109,
      "outputs": [
        {
          "output_type": "stream",
          "text": [
            "/usr/local/lib/python3.6/dist-packages/ipykernel_launcher.py:2: UserWarning: Update your `Dense` call to the Keras 2 API: `Dense(activation=\"sigmoid\", units=1, kernel_initializer=\"uniform\")`\n",
            "  \n"
          ],
          "name": "stderr"
        }
      ]
    },
    {
      "cell_type": "code",
      "metadata": {
        "id": "mmnAIh5pKFHD",
        "colab_type": "code",
        "colab": {}
      },
      "source": [
        "# Compiling the ANN\n",
        "\n",
        "# here we will use adam(stocastic gradient decent) algorithm\n",
        "# if dependent is binary category then lugaric loss function  is called binary_crosssentropy\n",
        "# if denendent is more then 2 category then lugaric loss function called categorical_crossentropy\n",
        "\n",
        "classifier.compile(optimizer= 'adam', loss= 'binary_crossentropy', metrics = ['accuracy'] )"
      ],
      "execution_count": 0,
      "outputs": []
    },
    {
      "cell_type": "code",
      "metadata": {
        "id": "2FWn1Wt4M0sP",
        "colab_type": "code",
        "colab": {
          "base_uri": "https://localhost:8080/",
          "height": 1000
        },
        "outputId": "29474ca5-8841-4de0-c3bb-c1c0bada16b4"
      },
      "source": [
        "# Fitting the ANN to the trainig set\n",
        "\n",
        "classifier.fit(x_train, y_train, batch_size= 10, epochs = 100)"
      ],
      "execution_count": 113,
      "outputs": [
        {
          "output_type": "stream",
          "text": [
            "Epoch 1/100\n",
            "8000/8000 [==============================] - 1s 151us/step - loss: 0.4792 - accuracy: 0.7960\n",
            "Epoch 2/100\n",
            "8000/8000 [==============================] - 1s 105us/step - loss: 0.4310 - accuracy: 0.7960\n",
            "Epoch 3/100\n",
            "8000/8000 [==============================] - 1s 111us/step - loss: 0.4261 - accuracy: 0.7960\n",
            "Epoch 4/100\n",
            "8000/8000 [==============================] - 1s 108us/step - loss: 0.4210 - accuracy: 0.8114\n",
            "Epoch 5/100\n",
            "8000/8000 [==============================] - 1s 102us/step - loss: 0.4180 - accuracy: 0.8253\n",
            "Epoch 6/100\n",
            "8000/8000 [==============================] - 1s 107us/step - loss: 0.4152 - accuracy: 0.8273\n",
            "Epoch 7/100\n",
            "8000/8000 [==============================] - 1s 103us/step - loss: 0.4138 - accuracy: 0.8313\n",
            "Epoch 8/100\n",
            "8000/8000 [==============================] - 1s 100us/step - loss: 0.4127 - accuracy: 0.8320\n",
            "Epoch 9/100\n",
            "8000/8000 [==============================] - 1s 103us/step - loss: 0.4115 - accuracy: 0.8330\n",
            "Epoch 10/100\n",
            "8000/8000 [==============================] - 1s 107us/step - loss: 0.4104 - accuracy: 0.8341\n",
            "Epoch 11/100\n",
            "8000/8000 [==============================] - 1s 108us/step - loss: 0.4092 - accuracy: 0.8324\n",
            "Epoch 12/100\n",
            "8000/8000 [==============================] - 1s 101us/step - loss: 0.4084 - accuracy: 0.8344\n",
            "Epoch 13/100\n",
            "8000/8000 [==============================] - 1s 113us/step - loss: 0.4078 - accuracy: 0.8338\n",
            "Epoch 14/100\n",
            "8000/8000 [==============================] - 1s 114us/step - loss: 0.4071 - accuracy: 0.8329\n",
            "Epoch 15/100\n",
            "8000/8000 [==============================] - 1s 102us/step - loss: 0.4069 - accuracy: 0.8344\n",
            "Epoch 16/100\n",
            "8000/8000 [==============================] - 1s 103us/step - loss: 0.4064 - accuracy: 0.8340\n",
            "Epoch 17/100\n",
            "8000/8000 [==============================] - 1s 104us/step - loss: 0.4057 - accuracy: 0.8350\n",
            "Epoch 18/100\n",
            "8000/8000 [==============================] - 1s 107us/step - loss: 0.4041 - accuracy: 0.8332\n",
            "Epoch 19/100\n",
            "8000/8000 [==============================] - 1s 118us/step - loss: 0.4055 - accuracy: 0.8342\n",
            "Epoch 20/100\n",
            "8000/8000 [==============================] - 1s 117us/step - loss: 0.4043 - accuracy: 0.8346\n",
            "Epoch 21/100\n",
            "8000/8000 [==============================] - 1s 116us/step - loss: 0.4044 - accuracy: 0.8346\n",
            "Epoch 22/100\n",
            "8000/8000 [==============================] - 1s 101us/step - loss: 0.4043 - accuracy: 0.8354\n",
            "Epoch 23/100\n",
            "8000/8000 [==============================] - 1s 106us/step - loss: 0.4039 - accuracy: 0.8342\n",
            "Epoch 24/100\n",
            "8000/8000 [==============================] - 1s 103us/step - loss: 0.4040 - accuracy: 0.8345\n",
            "Epoch 25/100\n",
            "8000/8000 [==============================] - 1s 101us/step - loss: 0.4040 - accuracy: 0.8357\n",
            "Epoch 26/100\n",
            "8000/8000 [==============================] - 1s 103us/step - loss: 0.4037 - accuracy: 0.8344\n",
            "Epoch 27/100\n",
            "8000/8000 [==============================] - 1s 103us/step - loss: 0.4033 - accuracy: 0.8359\n",
            "Epoch 28/100\n",
            "8000/8000 [==============================] - 1s 117us/step - loss: 0.4031 - accuracy: 0.8342\n",
            "Epoch 29/100\n",
            "8000/8000 [==============================] - 1s 103us/step - loss: 0.4030 - accuracy: 0.8355\n",
            "Epoch 30/100\n",
            "8000/8000 [==============================] - 1s 104us/step - loss: 0.4027 - accuracy: 0.8341\n",
            "Epoch 31/100\n",
            "8000/8000 [==============================] - 1s 103us/step - loss: 0.4028 - accuracy: 0.8355\n",
            "Epoch 32/100\n",
            "8000/8000 [==============================] - 1s 100us/step - loss: 0.4027 - accuracy: 0.8342\n",
            "Epoch 33/100\n",
            "8000/8000 [==============================] - 1s 107us/step - loss: 0.4022 - accuracy: 0.8347\n",
            "Epoch 34/100\n",
            "8000/8000 [==============================] - 1s 102us/step - loss: 0.4027 - accuracy: 0.8347\n",
            "Epoch 35/100\n",
            "8000/8000 [==============================] - 1s 112us/step - loss: 0.4021 - accuracy: 0.8350\n",
            "Epoch 36/100\n",
            "8000/8000 [==============================] - 1s 105us/step - loss: 0.4024 - accuracy: 0.8338\n",
            "Epoch 37/100\n",
            "8000/8000 [==============================] - 1s 106us/step - loss: 0.4021 - accuracy: 0.8350\n",
            "Epoch 38/100\n",
            "8000/8000 [==============================] - 1s 114us/step - loss: 0.4020 - accuracy: 0.8353\n",
            "Epoch 39/100\n",
            "8000/8000 [==============================] - 1s 110us/step - loss: 0.4019 - accuracy: 0.8350\n",
            "Epoch 40/100\n",
            "8000/8000 [==============================] - 1s 100us/step - loss: 0.4021 - accuracy: 0.8340\n",
            "Epoch 41/100\n",
            "8000/8000 [==============================] - 1s 115us/step - loss: 0.4021 - accuracy: 0.8330\n",
            "Epoch 42/100\n",
            "8000/8000 [==============================] - 1s 102us/step - loss: 0.4016 - accuracy: 0.8356\n",
            "Epoch 43/100\n",
            "8000/8000 [==============================] - 1s 115us/step - loss: 0.4021 - accuracy: 0.8341\n",
            "Epoch 44/100\n",
            "8000/8000 [==============================] - 1s 107us/step - loss: 0.4020 - accuracy: 0.8346\n",
            "Epoch 45/100\n",
            "8000/8000 [==============================] - 1s 111us/step - loss: 0.4017 - accuracy: 0.8350\n",
            "Epoch 46/100\n",
            "8000/8000 [==============================] - 1s 114us/step - loss: 0.4020 - accuracy: 0.8359\n",
            "Epoch 47/100\n",
            "8000/8000 [==============================] - 1s 108us/step - loss: 0.4017 - accuracy: 0.8347\n",
            "Epoch 48/100\n",
            "8000/8000 [==============================] - 1s 105us/step - loss: 0.4015 - accuracy: 0.8359\n",
            "Epoch 49/100\n",
            "8000/8000 [==============================] - 1s 118us/step - loss: 0.4014 - accuracy: 0.8342\n",
            "Epoch 50/100\n",
            "8000/8000 [==============================] - 1s 102us/step - loss: 0.4015 - accuracy: 0.8335\n",
            "Epoch 51/100\n",
            "8000/8000 [==============================] - 1s 111us/step - loss: 0.4015 - accuracy: 0.8351\n",
            "Epoch 52/100\n",
            "8000/8000 [==============================] - 1s 116us/step - loss: 0.4013 - accuracy: 0.8347\n",
            "Epoch 53/100\n",
            "8000/8000 [==============================] - 1s 115us/step - loss: 0.4011 - accuracy: 0.8344\n",
            "Epoch 54/100\n",
            "8000/8000 [==============================] - 1s 104us/step - loss: 0.4014 - accuracy: 0.8341\n",
            "Epoch 55/100\n",
            "8000/8000 [==============================] - 1s 110us/step - loss: 0.4008 - accuracy: 0.8334\n",
            "Epoch 56/100\n",
            "8000/8000 [==============================] - 1s 110us/step - loss: 0.4014 - accuracy: 0.8354\n",
            "Epoch 57/100\n",
            "8000/8000 [==============================] - 1s 114us/step - loss: 0.4010 - accuracy: 0.8341\n",
            "Epoch 58/100\n",
            "8000/8000 [==============================] - 1s 108us/step - loss: 0.4007 - accuracy: 0.8359\n",
            "Epoch 59/100\n",
            "8000/8000 [==============================] - 1s 101us/step - loss: 0.4008 - accuracy: 0.8357\n",
            "Epoch 60/100\n",
            "8000/8000 [==============================] - 1s 100us/step - loss: 0.4011 - accuracy: 0.8336\n",
            "Epoch 61/100\n",
            "8000/8000 [==============================] - 1s 104us/step - loss: 0.4003 - accuracy: 0.8364\n",
            "Epoch 62/100\n",
            "8000/8000 [==============================] - 1s 104us/step - loss: 0.4008 - accuracy: 0.8353\n",
            "Epoch 63/100\n",
            "8000/8000 [==============================] - 1s 113us/step - loss: 0.4007 - accuracy: 0.8340\n",
            "Epoch 64/100\n",
            "8000/8000 [==============================] - 1s 111us/step - loss: 0.4008 - accuracy: 0.8341\n",
            "Epoch 65/100\n",
            "8000/8000 [==============================] - 1s 117us/step - loss: 0.4008 - accuracy: 0.8353\n",
            "Epoch 66/100\n",
            "8000/8000 [==============================] - 1s 101us/step - loss: 0.4001 - accuracy: 0.8361\n",
            "Epoch 67/100\n",
            "8000/8000 [==============================] - 1s 120us/step - loss: 0.4006 - accuracy: 0.8344\n",
            "Epoch 68/100\n",
            "8000/8000 [==============================] - 1s 120us/step - loss: 0.4010 - accuracy: 0.8353\n",
            "Epoch 69/100\n",
            "8000/8000 [==============================] - 1s 107us/step - loss: 0.4008 - accuracy: 0.8357\n",
            "Epoch 70/100\n",
            "8000/8000 [==============================] - 1s 112us/step - loss: 0.4008 - accuracy: 0.8342\n",
            "Epoch 71/100\n",
            "8000/8000 [==============================] - 1s 109us/step - loss: 0.4005 - accuracy: 0.8338\n",
            "Epoch 72/100\n",
            "8000/8000 [==============================] - 1s 111us/step - loss: 0.4000 - accuracy: 0.8361\n",
            "Epoch 73/100\n",
            "8000/8000 [==============================] - 1s 116us/step - loss: 0.4004 - accuracy: 0.8335\n",
            "Epoch 74/100\n",
            "8000/8000 [==============================] - 1s 115us/step - loss: 0.4002 - accuracy: 0.8340\n",
            "Epoch 75/100\n",
            "8000/8000 [==============================] - 1s 105us/step - loss: 0.4002 - accuracy: 0.8350\n",
            "Epoch 76/100\n",
            "8000/8000 [==============================] - 1s 113us/step - loss: 0.4007 - accuracy: 0.8338\n",
            "Epoch 77/100\n",
            "8000/8000 [==============================] - 1s 113us/step - loss: 0.4002 - accuracy: 0.8345\n",
            "Epoch 78/100\n",
            "8000/8000 [==============================] - 1s 107us/step - loss: 0.4006 - accuracy: 0.8347\n",
            "Epoch 79/100\n",
            "8000/8000 [==============================] - 1s 103us/step - loss: 0.4002 - accuracy: 0.8339\n",
            "Epoch 80/100\n",
            "8000/8000 [==============================] - 1s 108us/step - loss: 0.4005 - accuracy: 0.8350\n",
            "Epoch 81/100\n",
            "8000/8000 [==============================] - 1s 104us/step - loss: 0.4009 - accuracy: 0.8346\n",
            "Epoch 82/100\n",
            "8000/8000 [==============================] - 1s 105us/step - loss: 0.4004 - accuracy: 0.8347\n",
            "Epoch 83/100\n",
            "8000/8000 [==============================] - 1s 117us/step - loss: 0.4007 - accuracy: 0.8355\n",
            "Epoch 84/100\n",
            "8000/8000 [==============================] - 1s 103us/step - loss: 0.4004 - accuracy: 0.8338\n",
            "Epoch 85/100\n",
            "8000/8000 [==============================] - 1s 116us/step - loss: 0.4008 - accuracy: 0.8353\n",
            "Epoch 86/100\n",
            "8000/8000 [==============================] - 1s 106us/step - loss: 0.4000 - accuracy: 0.8357\n",
            "Epoch 87/100\n",
            "8000/8000 [==============================] - 1s 108us/step - loss: 0.4005 - accuracy: 0.8349\n",
            "Epoch 88/100\n",
            "8000/8000 [==============================] - 1s 113us/step - loss: 0.4003 - accuracy: 0.8345\n",
            "Epoch 89/100\n",
            "8000/8000 [==============================] - 1s 114us/step - loss: 0.4005 - accuracy: 0.8357\n",
            "Epoch 90/100\n",
            "8000/8000 [==============================] - 1s 119us/step - loss: 0.4007 - accuracy: 0.8350\n",
            "Epoch 91/100\n",
            "8000/8000 [==============================] - 1s 117us/step - loss: 0.4002 - accuracy: 0.8321\n",
            "Epoch 92/100\n",
            "8000/8000 [==============================] - 1s 108us/step - loss: 0.4003 - accuracy: 0.8353\n",
            "Epoch 93/100\n",
            "8000/8000 [==============================] - 1s 102us/step - loss: 0.3999 - accuracy: 0.8340\n",
            "Epoch 94/100\n",
            "8000/8000 [==============================] - 1s 106us/step - loss: 0.4006 - accuracy: 0.8360\n",
            "Epoch 95/100\n",
            "8000/8000 [==============================] - 1s 106us/step - loss: 0.4001 - accuracy: 0.8345\n",
            "Epoch 96/100\n",
            "8000/8000 [==============================] - 1s 112us/step - loss: 0.4002 - accuracy: 0.8340\n",
            "Epoch 97/100\n",
            "8000/8000 [==============================] - 1s 111us/step - loss: 0.4005 - accuracy: 0.8351\n",
            "Epoch 98/100\n",
            "8000/8000 [==============================] - 1s 105us/step - loss: 0.4003 - accuracy: 0.8349\n",
            "Epoch 99/100\n",
            "8000/8000 [==============================] - 1s 114us/step - loss: 0.4000 - accuracy: 0.8349\n",
            "Epoch 100/100\n",
            "8000/8000 [==============================] - 1s 101us/step - loss: 0.3999 - accuracy: 0.8346\n"
          ],
          "name": "stdout"
        },
        {
          "output_type": "execute_result",
          "data": {
            "text/plain": [
              "<keras.callbacks.callbacks.History at 0x7fa6471b0898>"
            ]
          },
          "metadata": {
            "tags": []
          },
          "execution_count": 113
        }
      ]
    },
    {
      "cell_type": "code",
      "metadata": {
        "id": "yBR7NWRNN729",
        "colab_type": "code",
        "colab": {}
      },
      "source": [
        "# predicting the test and result\n",
        "\n",
        "y_pred = classifier.predict(x_test)\n",
        "\n",
        "# here we have predicted the probability we need to convert to 0 or 1\n",
        "\n",
        "y_pred = (y_pred > 0.5)"
      ],
      "execution_count": 0,
      "outputs": []
    },
    {
      "cell_type": "code",
      "metadata": {
        "id": "qMVScunXrY44",
        "colab_type": "code",
        "colab": {
          "base_uri": "https://localhost:8080/",
          "height": 136
        },
        "outputId": "719c2605-a738-4df0-fe32-b1861bfe51ba"
      },
      "source": [
        "y_pred"
      ],
      "execution_count": 121,
      "outputs": [
        {
          "output_type": "execute_result",
          "data": {
            "text/plain": [
              "array([[False],\n",
              "       [False],\n",
              "       [False],\n",
              "       ...,\n",
              "       [False],\n",
              "       [False],\n",
              "       [False]])"
            ]
          },
          "metadata": {
            "tags": []
          },
          "execution_count": 121
        }
      ]
    },
    {
      "cell_type": "code",
      "metadata": {
        "id": "VTIfJU83sjXp",
        "colab_type": "code",
        "colab": {
          "base_uri": "https://localhost:8080/",
          "height": 51
        },
        "outputId": "de1bd155-fc4b-4e7a-cefc-9a3538ad312e"
      },
      "source": [
        "# Making the confusion Matrix\n",
        "\n",
        "from sklearn.metrics import confusion_matrix\n",
        "\n",
        "cm = confusion_matrix(y_test, y_pred)\n",
        "\n",
        "cm"
      ],
      "execution_count": 124,
      "outputs": [
        {
          "output_type": "execute_result",
          "data": {
            "text/plain": [
              "array([[1539,   56],\n",
              "       [ 260,  145]])"
            ]
          },
          "metadata": {
            "tags": []
          },
          "execution_count": 124
        }
      ]
    },
    {
      "cell_type": "code",
      "metadata": {
        "id": "zJCuWihUrvMc",
        "colab_type": "code",
        "colab": {
          "base_uri": "https://localhost:8080/",
          "height": 34
        },
        "outputId": "ab0f901e-fee4-4cf5-9f90-d4c622fd7f4d"
      },
      "source": [
        "#accuracy = no.of correct pred/total no.of pred\n",
        "\n",
        "(1539 + 145)/2000"
      ],
      "execution_count": 125,
      "outputs": [
        {
          "output_type": "execute_result",
          "data": {
            "text/plain": [
              "0.842"
            ]
          },
          "metadata": {
            "tags": []
          },
          "execution_count": 125
        }
      ]
    },
    {
      "cell_type": "code",
      "metadata": {
        "id": "pqSRdNELsZIw",
        "colab_type": "code",
        "colab": {}
      },
      "source": [
        ""
      ],
      "execution_count": 0,
      "outputs": []
    }
  ]
}